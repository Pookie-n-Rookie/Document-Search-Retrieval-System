{
 "cells": [
  {
   "metadata": {
    "ExecuteTime": {
     "end_time": "2024-11-27T05:28:01.453118Z",
     "start_time": "2024-11-27T05:28:01.447198Z"
    }
   },
   "cell_type": "code",
   "source": [
    "# necessary libraries\n",
    "import numpy as np\n",
    "import faiss\n",
    "from transformers import pipeline, AutoTokenizer, AutoModel\n",
    "from PyPDF2 import PdfReader\n"
   ],
   "id": "4dd3c3982475fad2",
   "outputs": [],
   "execution_count": 2
  },
  {
   "metadata": {
    "ExecuteTime": {
     "end_time": "2024-11-27T05:41:17.815860Z",
     "start_time": "2024-11-27T05:41:13.214684Z"
    }
   },
   "cell_type": "code",
   "source": [
    "# Text extraction from a PDF file\n",
    "def extract_text_from_pdf(file_path):\n",
    "    reader = PdfReader(file_path)\n",
    "    text = \"\".join([page.extract_text() for page in reader.pages])\n",
    "    return text\n",
    "\n",
    "\n",
    "file_path = \"D:\\GEN AI\\Document-Search-Retrieval-System\\Syllabus2019(IT) (2).pdf\" \n",
    "extracted_text = extract_text_from_pdf(file_path)\n",
    "print(\"Extracted Text:\", extracted_text[:10000])  \n"
   ],
   "id": "d49da4fc99c65d7e",
   "outputs": [
    {
     "name": "stdout",
     "output_type": "stream",
     "text": [
      "Extracted Text:  \n",
      " \n",
      "DEPARTMENT OF INFORMATION TECHNOLOGY  \n",
      "SYLLABUS OF 2ND TO 4TH YEAR OF THE  \n",
      "UNDERGRADUATE ENGINEERING DEGREE PROGRAMME  \n",
      " \n",
      "(IT/PC/B/T/211) Data Structures & Algorithms  \n",
      " \n",
      "Introduction: Algorith ms, Order Notation: Time and Space Analysis of Algorithms  \n",
      " \n",
      "Sequential Representations of lists:  Arrays and Lists, Linked Representation - Linear linked lists. \n",
      "Circular linked lists. Doubly linked lists. Operations on all types of lists. Applications.  \n",
      " \n",
      "Special Lists:  Stacks, Queues and their applications.  \n",
      " \n",
      "Recursion:  Design of recursive algorithms, Recursion vs. Iteration, Removal of Recursion  \n",
      " \n",
      "Trees  - Binary Trees, Traversals of binary trees, Structural properties of binary trees. Representation of \n",
      "binary  trees in terms of pointers and arrays. General trees   \n",
      " \n",
      "Binary Search Trees:  Search, Insertion and Deletion algorithms, Structural properties.  Threaded Binary \n",
      "trees.  \n",
      " \n",
      "Balanced Binary Search Trees:  AVL tree, B -trees, B+ - trees.  \n",
      " \n",
      "Graphs:  Representations, B readth -first and Depth -first Traversals, Shortest Path algorithms, Minimal \n",
      "Spanning Tree Algorithms  \n",
      " \n",
      "Sorting and Searching Algorithms:  Bubble sort, Selection Sort, Insertion Sort, Quick sort, Merge Sort, \n",
      "Heap sort and Radix Sort, Binary Search, Interpolati on Search.  \n",
      " \n",
      "Hashing : Hashing Functions, Collision Resolution Techniques.  2nd   Year 1st Semester  \n",
      "Subject Code  Subject Name  Category  Type  Contact  Credit  Marks  L T P \n",
      "IT/PC/B/T/211  Data Structures and Algo rithms  PC Basic  3 0 0 3 100 \n",
      "IT/BS/B/T/212  Mathematics for IT -I BS Basic  3 0 0 3 100 \n",
      "IT/PC/B/T/213  Database Management Systems  PC Basic  3 0 0 3 100 \n",
      "IT/PC/B/T/214  Object Oriented Programming  PC Basic  3 0 0 3 100 \n",
      "IT/PC/B/T/215  Computer Organization and Ar chitecture  PC Basic  3 0 0 3 100 \n",
      "IT/PC/B/S/211  Data Structures and Algorithms Lab  PC Basic  0 0 3 1.5 100 \n",
      "IT/PC/B/S/212  Database Management Systems Lab  PC Basic  0 0 3 1.5 100 \n",
      "IT/PC/B/S/213  Object Oriented Programming Lab  PC Basic  0 0 3 1.5 100 \n",
      "IT/PC/B/S/ 214 Assembly and Machine Language Lab  PC Basic  0 1 3 2.5 100 \n",
      "Sub-Total  15 1 12   \n",
      "Total         28 22 900  \n",
      "(IT/BS/B/T/212)  Mathematics for IT -I \n",
      " \n",
      "Vector Algebra:     \n",
      "Basics of vector algebra; Dot and Cross products of two vectors; Products of three or more vectors; \n",
      "Volume of tetrahedron; W ork done by a force, Moment of a force about a point .  \n",
      " \n",
      "Vector calculus:   \n",
      "Vector Calculus:    Differentiation of a vector point function, Tangent and normal vectors, Directional \n",
      "derivatives, Gradient Divergence and Curl, Green’s, Gauss’ and Stokes’ Theorems  (statement only) with \n",
      "applications.  \n",
      " \n",
      "Ordinary Differential Equation:   \n",
      "Ordinary differential equations of the 1st  order, exactness and integrating factors, variation of parameters, \n",
      "Picard’s iteration method. Ordinary linear differential equation of n -th order, solutions of homogeneous \n",
      "and non -homogeneous equations. Operator method, Methods of undetermined coefficients and variations \n",
      "of parameters, systems of differential equations, Phase plane, Critical points, Stability.  \n",
      " \n",
      "Linear programming:   \n",
      "General stru cture of Linear programming model, application areas of Linear programming, solution by \n",
      "graphical method, simplex method (including two phase and Big -M method), duality in Linear \n",
      "programming.         \n",
      " \n",
      "Transportation Problem:   \n",
      "Mathematical model of Transpor tation Problem, methods for finding initial solution: North -West Corner \n",
      "Method, Least Cost Method, Vogel’s Approximation Method, test for optimality, variations in \n",
      "Transportation Problem.   \n",
      " \n",
      "Assignment Problem:   \n",
      "Mathematical model of Assignment Problem, so lution of Assignment Problem, variations in Assignment \n",
      "Problem.    \n",
      " \n",
      " \n",
      "(IT/PC/B/T/213) Database Management Systems  \n",
      " \n",
      "Introduction: History of Evolution of DBMS and advantages over traditional file system, Three -schema \n",
      "architecture of DBMS  and Data Independen ce. Introduction to DDL and DML. Ideas about different kind \n",
      "of users of DBMS and available databases in market.  \n",
      " \n",
      "Data Model: Introduction to Relational data model and object oriented data model; Keys, Entity -\n",
      "Relationship Model, Relational Algebra , Tuple and Domain Relational Calculus   \n",
      " \n",
      "Database Design: Conceptual database design, Different types of dependencies, Theory of normalization, \n",
      "preservation of dependencies, Lossless decomposition, Armstrong’s axioms, Views, Database security,  \n",
      " \n",
      "SQL: Introduction to SQL, Stored Procedures and Triggers, Application development using SQL and \n",
      "embedded SQL programming  \n",
      " \n",
      "Data Storage and Querying: Physical data structure ,Evaluation of Relational Algebra expressions; Query \n",
      "equivalence and Query Optimization, Join algorit hm(s)  \n",
      " Transaction Management:  Transaction Processing, Concurrency control and Recovery management \n",
      ",Transaction Model Properties and State , Serializability, Lock -based and Time -stamped based Protocols, \n",
      "Two-phase Locking  \n",
      " \n",
      "Advanced Topics: Brief introductio n to Distributed database systems, Temporal databases, Object \n",
      "oriented and object -relational database, Data warehousing, Data mining  \n",
      " \n",
      " \n",
      "(IT/PC/B/T/214) Object Oriented Programming  \n",
      " \n",
      "Basic Concepts: Background,  OOP features (Encapsulation, Abstraction, Polymo rphism, Inheritance), \n",
      "advantages, disadvantages, Classes and Objects   \n",
      " \n",
      "Enhancements over Procedural Languages(C++): New keywords,  New data types, new syntax, new \n",
      "I/O, Inline functions, Default function parameters, const, reference, Function Overloading it s issues and \n",
      "resolution. New dynamic allocation and de -allocation methods   \n",
      " \n",
      "Classes and Objects : Notions of abstraction, encapsulation, information hiding and modularity. \n",
      "Instantiation and initialization of objects; constructor and destructor, Access Speci fication, Functions and \n",
      "methods; self reference of objects. Copy Constructor. Static Members. Nested Classes, C++ features: \n",
      "const Members, const functions. Mutables, friend function and classes,   \n",
      " \n",
      "Inheritance and Polymorphism:  Basic concept of IS -A relatio nship. ―protected‖ access specification. \n",
      "Initialization derived objects, Method overriding, Abstract methods and classes. , Polymorphic method \n",
      "calls and dynamic binding¸ Examples, IS -A versus IMPLEMENTED -IN-TERMS -OF relationship. \n",
      "Multiple Inheritance, The problem of multiple occurrences of the same base and its solution   \n",
      " \n",
      "Operator Overloading (C++): Fundamental ideas.  Examples of overloading with arithmetic, relational \n",
      "operators. Operator functions, Overloading of unary/binary operators, Overloading of ―ne w‖ and ―delete‖ \n",
      "operators, Member vs. non -member, Conversion Operators, Ambiguity, Explicit constructor,    \n",
      " \n",
      "Basic I/O and File I/O: Streams, Standard Streams, File Streams, Opening/Reading/writing a File, \n",
      "Streaming to Functions, Managing I/O Streams, Bina ry Files, stream errors, Checking the I/O Status \n",
      "Flags   \n",
      " \n",
      "Exception handling: The idea of exception handling and its superiority over traditional error handling. \n",
      "Semantics of try-catch  blocks and throw   \n",
      " \n",
      "Generic Programming : Templates in C++. Function Templ ate definition and instantiation.  Class \n",
      "Template definition and instantiation. Template Specialization. Class Template Inheritance. Standard \n",
      "Template Library in C++   \n",
      " \n",
      "Namespace:  Defining namespace, using namespace  \n",
      " \n",
      "(IT/PC/B/T/215) Computer Organization a nd Architecture  \n",
      " \n",
      "Recapitulation of Digital Logic and Circuits   \n",
      " \n",
      "Boolean expression minimization techniques through fundamental theorems : Karnaugh map \n",
      "techniques and Quine McClauskey's tabular method.  \n",
      " \n",
      "Adder, subtractor, encoder, decoder, comparator, multi plexer, parity generators etc.  \n",
      " State Table and State Transition Diagram. Study of different types of flip -flops e.g. R -S, D-type, J -K etc. \n",
      "Registers, Counters.  \n",
      " \n",
      "Overview of Computer Organization and Architecture :   \n",
      "Introduction to computer system and its  sub-modules ; Basic organization of computer and block level \n",
      "description of the functional units     \n",
      " \n",
      "Arithmetic and Logic Unit, Introduction to memory Unit, control unit and Instruction Set;  \n",
      "Working with an ALU, Concepts of Machine level programming, Asse mbly level programming and High \n",
      "level programming     \n",
      " \n",
      "Data Representation and Arithmetic Algorithms :    \n",
      "Number System and Representation of information: Binary Data representation, two’s complement \n",
      "representation and Floating -point representation. IEEE 75 4 floating point number representation.  \n",
      "Integer Data computation: Addition, Subtraction. Multiplication: Signed multiplication, Booth’s \n",
      "algorithm  \n",
      "Division of integers: Restoring and non -restoring division; floating point arithmetic: Addition, \n",
      "subtraction  \n",
      " \n",
      "Processor Organization and Architecture :    \n",
      "CPU Architecture, Register Organization, Instruction formats, basic instruction cycle. Instruction \n",
      "interpretation and Sequencing, Various addressing modes and designing of an Instruction set   \n",
      " \n",
      "Hardwired control  CPU design; Microprogrammed control CPU design. Micro -instruction sequencing \n",
      "and execution   \n",
      " \n",
      "Introduction to RISC and CISC paradigm; Design issues of a RISC processor and example of an existing \n",
      "RISC processor   \n",
      " \n",
      "Memory and I/O Organization :   \n",
      "Concepts of  semiconductor memory, CPU - memory interaction, Classifications of primary and secondary \n",
      "memories; Types of RAM and ROM, Allocation policies, Memory hierarchy and characteristics; \n",
      "Organization of memory modules; Cache memory and related mapping and replace ment policies; Cache \n",
      "Coherency, Interleaved and Associative Memory; Virtual memory   \n",
      " \n",
      "Introduction to input/output processing, working with video display unit and keyboard and routine to \n",
      "control them; Programmed controlled I/O transfer; Interrupt controlle d I/O transfer; DMA controller  \n",
      " \n",
      "Secondary storage and type of storage devices; Introduction to buses and connecting I/O devices to CPU \n",
      "and memory  \n",
      " \n",
      "Introduction to Parallel Processing System :   \n",
      "Introduction to pipelining; Flynn’s classifications; pipeline  processing and pipeline ha\n"
     ]
    }
   ],
   "execution_count": 23
  },
  {
   "metadata": {
    "ExecuteTime": {
     "end_time": "2024-11-27T05:43:46.584323Z",
     "start_time": "2024-11-27T05:43:45.816017Z"
    }
   },
   "cell_type": "code",
   "source": [
    "# Load pre-trained sentence transformer model\n",
    "tokenizer = AutoTokenizer.from_pretrained(\"sentence-transformers/all-MiniLM-L6-v2\")\n",
    "model = AutoModel.from_pretrained(\"sentence-transformers/all-MiniLM-L6-v2\")\n",
    "\n",
    "# Function to generate embeddings\n",
    "def generate_embedding(text):\n",
    "    inputs = tokenizer(text, return_tensors=\"pt\", truncation=True, max_length=512)\n",
    "    outputs = model(**inputs)\n",
    "    embedding = outputs.last_hidden_state.mean(dim=1).detach().numpy()\n",
    "    return embedding\n",
    "\n",
    "# Generate embedding for the extracted text\n",
    "embedding = generate_embedding(extracted_text)\n",
    "print(\"Generated Embedding Shape:\", embedding.shape)\n"
   ],
   "id": "40f4d3655a9b650b",
   "outputs": [
    {
     "name": "stdout",
     "output_type": "stream",
     "text": [
      "Generated Embedding Shape: (1, 384)\n"
     ]
    }
   ],
   "execution_count": 32
  },
  {
   "metadata": {
    "ExecuteTime": {
     "end_time": "2024-11-27T05:43:56.771249Z",
     "start_time": "2024-11-27T05:43:56.765987Z"
    }
   },
   "cell_type": "code",
   "source": [
    "# Initialize FAISS index\n",
    "dimension = 384 # Embedding size for MiniLM model\n",
    "index = faiss.IndexFlatL2(dimension)\n",
    "\n",
    "# Add the embedding to the FAISS index\n",
    "index.add(np.array(embedding, dtype=np.float32))\n",
    "\n",
    "# Check the number of indexed vectors\n",
    "print(\"Number of indexed vectors:\", index.ntotal)\n"
   ],
   "id": "4e196cc2cf134a16",
   "outputs": [
    {
     "name": "stdout",
     "output_type": "stream",
     "text": [
      "Number of indexed vectors: 1\n"
     ]
    }
   ],
   "execution_count": 34
  },
  {
   "metadata": {
    "ExecuteTime": {
     "end_time": "2024-11-27T05:46:51.501168Z",
     "start_time": "2024-11-27T05:46:51.478053Z"
    }
   },
   "cell_type": "code",
   "source": [
    "# Query for similarity search\n",
    "query = \"Spanning Tree Algorithms ?\"\n",
    "query_embedding = generate_embedding(query)\n",
    "\n",
    "# Search FAISS for similar documents\n",
    "D, I = index.search(np.array(query_embedding, dtype=np.float32), k=6)\n",
    "print(\"Indices of top 5 results:\", I)\n"
   ],
   "id": "e2d695df383aa46d",
   "outputs": [
    {
     "name": "stdout",
     "output_type": "stream",
     "text": [
      "Indices of top 5 results: [[ 0 -1 -1 -1 -1 -1]]\n"
     ]
    }
   ],
   "execution_count": 40
  },
  {
   "metadata": {
    "ExecuteTime": {
     "end_time": "2024-11-27T05:47:08.371841Z",
     "start_time": "2024-11-27T05:46:52.380688Z"
    }
   },
   "cell_type": "code",
   "source": [
    "# Load QA model pipeline\n",
    "qa_pipeline = pipeline(\"question-answering\", model=\"distilbert-base-cased-distilled-squad\")\n",
    "\n",
    "# Example QA based on the retrieved text\n",
    "context = extracted_text  # In a real case, you'd use the most relevant passages.\n",
    "result = qa_pipeline(question=query, context=context)\n",
    "print(\"Answer:\", result['answer'])\n"
   ],
   "id": "c67ef25e6a52e274",
   "outputs": [
    {
     "name": "stdout",
     "output_type": "stream",
     "text": [
      "Answer: Minimal \n",
      "Spanning Tree Algorithms  \n",
      " \n",
      "Sorting\n"
     ]
    }
   ],
   "execution_count": 41
  },
  {
   "metadata": {},
   "cell_type": "code",
   "outputs": [],
   "execution_count": null,
   "source": "",
   "id": "c8b1366862daf4e3"
  }
 ],
 "metadata": {
  "kernelspec": {
   "display_name": "Python 3",
   "language": "python",
   "name": "python3"
  },
  "language_info": {
   "codemirror_mode": {
    "name": "ipython",
    "version": 2
   },
   "file_extension": ".py",
   "mimetype": "text/x-python",
   "name": "python",
   "nbconvert_exporter": "python",
   "pygments_lexer": "ipython2",
   "version": "2.7.6"
  }
 },
 "nbformat": 4,
 "nbformat_minor": 5
}
